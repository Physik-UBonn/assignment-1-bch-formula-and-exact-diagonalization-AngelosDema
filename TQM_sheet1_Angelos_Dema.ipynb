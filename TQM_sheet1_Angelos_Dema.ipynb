{
 "cells": [
  {
   "cell_type": "markdown",
   "metadata": {},
   "source": [
    "## Angelos Dema\n",
    "## Sheet 01                                      \n",
    "### H.3 \n",
    "#### c)\n",
    "We wrote the hamiltonian matrix in the exercise H.3.b), we compute the eigenvalues and the eigenvectors in the code below:"
   ]
  },
  {
   "cell_type": "code",
   "execution_count": 22,
   "metadata": {},
   "outputs": [],
   "source": [
    "import numpy as np # type: ignore\n",
    "\n",
    "# Coupling strength set to J = 1\n",
    "J = 1.0\n",
    "\n",
    "# Hamiltonian matrix for L=2:\n",
    "# Basis ordering: |00>, |01>, |10>, |11>\n",
    "A_2 = np.array([\n",
    "    [ J/4,       0,    0,    0],\n",
    "    [  0,   -J/4,  J/2,    0],\n",
    "    [  0,    J/2, -J/4,    0],\n",
    "    [  0,       0,    0,  J/4]\n",
    "], dtype=complex)\n",
    "\n",
    "#Hamiltonian matrix for L=3:\n",
    "A_3 = np.array([\n",
    "    [ J*(3/4), 0, 0, 0,0,0,0,0],\n",
    "    [  0,   -J/4,  J/2, 0, J*(1/2),0,0,0],\n",
    "    [  0,    J/2, -J/4, 0, J*(1/2),0,0,0],\n",
    "    [  0,       0,    0,  -J/4,0,J*(1/2),J*(1/2),0],\n",
    "\n",
    "    [  0,    J/2, J/2, 0, -J*(1/4),0,0,0],\n",
    "    [  0,       0,    0,  J/2,0,-J*(1/4),J*(1/2),0],\n",
    "    [  0,  0, 0, J/2, 0,J/2, -J/4,0],\n",
    "    [  0,       0,    0, 0,0, 0, 0, J*(3/4)]\n",
    "], dtype=complex)\n",
    "\n",
    "def Eigen_print(A):\n",
    "    # Compute the eigenvalues and eigenvectors\n",
    "    eigenvalues, eigenvectors = np.linalg.eigh(A.real)\n",
    "    for index,values in enumerate(eigenvalues):\n",
    "        print(\"E_\"+f\"{index+1}={values}\")\n",
    "\n",
    "    # Iterate over each column using slicing\n",
    "    for col_index in range(eigenvectors.shape[1]):\n",
    "        column_vector = eigenvectors[:, col_index]\n",
    "        print(f\"Eigenvector_{col_index} (Transponent): {column_vector}\")\n"
   ]
  },
  {
   "cell_type": "code",
   "execution_count": null,
   "metadata": {},
   "outputs": [
    {
     "name": "stdout",
     "output_type": "stream",
     "text": [
      "Hamilton for L=2\n",
      "E_1=-0.75\n",
      "E_2=0.25\n",
      "E_3=0.25\n",
      "E_4=0.25\n",
      "Eigenvector_0 (Transponent): [ 0.          0.70710678 -0.70710678  0.        ]\n",
      "Eigenvector_1 (Transponent): [1. 0. 0. 0.]\n",
      "Eigenvector_2 (Transponent): [0.         0.70710678 0.70710678 0.        ]\n",
      "Eigenvector_3 (Transponent): [0. 0. 0. 1.]\n",
      "\n",
      "Hamilton for L=3\n",
      "E_1=-0.7500000000000001\n",
      "E_2=-0.7500000000000001\n",
      "E_3=-0.7499999999999999\n",
      "E_4=-0.7499999999999999\n",
      "E_5=0.7499999999999999\n",
      "E_6=0.7499999999999999\n",
      "E_7=0.75\n",
      "E_8=0.75\n",
      "Eigenvector_0 (Transponent): [ 0.         -0.79866748  0.54629528  0.          0.25237219  0.\n",
      "  0.          0.        ]\n",
      "Eigenvector_1 (Transponent): [ 0.          0.          0.         -0.79866748  0.          0.54629528\n",
      "  0.25237219  0.        ]\n",
      "Eigenvector_2 (Transponent): [ 0.         -0.16969658 -0.60681804  0.          0.77651461  0.\n",
      "  0.          0.        ]\n",
      "Eigenvector_3 (Transponent): [ 0.          0.          0.          0.16969658  0.          0.60681804\n",
      " -0.77651461  0.        ]\n",
      "Eigenvector_4 (Transponent): [0.         0.57735027 0.57735027 0.         0.57735027 0.\n",
      " 0.         0.        ]\n",
      "Eigenvector_5 (Transponent): [ 0.          0.          0.         -0.57735027  0.         -0.57735027\n",
      " -0.57735027  0.        ]\n",
      "Eigenvector_6 (Transponent): [1. 0. 0. 0. 0. 0. 0. 0.]\n",
      "Eigenvector_7 (Transponent): [0. 0. 0. 0. 0. 0. 0. 1.]\n"
     ]
    }
   ],
   "source": [
    "print(\"Hamilton for L=2\")\n",
    "Eigen_print(A_2)\n",
    "print(\"\\nHamilton for L=3\")\n",
    "Eigen_print(A_3)"
   ]
  },
  {
   "cell_type": "markdown",
   "metadata": {},
   "source": [
    "#### d)\n",
    "We implement a function that takes a time t and returns the complete time evolution operator and returns the full time evolution operator matrix $U(t) = e^{−iHt}$ for L = 2,3 using the previously determined eigenvalues and-vectors:"
   ]
  },
  {
   "cell_type": "code",
   "execution_count": 24,
   "metadata": {},
   "outputs": [],
   "source": [
    "#From the previous exercise\n",
    "def U(t,H):\n",
    "    eigenvalues, eigenvectors = np.linalg.eigh(H)\n",
    "    S=eigenvectors\n",
    "    D=np.diag(np.exp(eigenvalues*t*(-1j))) #diagonalize\n",
    "    S_inv=np.linalg.inv(S) #inverse matrix\n",
    "    return np.dot(S,np.dot(D,S_inv))"
   ]
  },
  {
   "cell_type": "code",
   "execution_count": 26,
   "metadata": {},
   "outputs": [
    {
     "name": "stdout",
     "output_type": "stream",
     "text": [
      "For t=1\n",
      "L=2\n",
      "[[0.96891242-0.24740396j 0.        +0.j         0.        +0.j\n",
      "  0.        +0.j        ]\n",
      " [0.        +0.j         0.85030065+0.2171174j  0.11861178-0.46452136j\n",
      "  0.        +0.j        ]\n",
      " [0.        +0.j         0.11861178-0.46452136j 0.85030065+0.2171174j\n",
      "  0.        +0.j        ]\n",
      " [0.        +0.j         0.        +0.j         0.        +0.j\n",
      "  0.96891242-0.24740396j]]\n",
      "\n",
      "L=3\n",
      "[[ 7.31688869e-01-0.68163876j  0.00000000e+00+0.j\n",
      "   0.00000000e+00+0.j          0.00000000e+00+0.j\n",
      "   0.00000000e+00+0.j          0.00000000e+00+0.j\n",
      "   0.00000000e+00+0.j          0.00000000e+00+0.j        ]\n",
      " [ 0.00000000e+00+0.j          7.31688869e-01+0.22721292j\n",
      "   3.55771282e-18-0.45442584j  0.00000000e+00+0.j\n",
      "   3.55771282e-18-0.45442584j  0.00000000e+00+0.j\n",
      "   0.00000000e+00+0.j          0.00000000e+00+0.j        ]\n",
      " [ 0.00000000e+00+0.j         -3.47318288e-17-0.45442584j\n",
      "   7.31688869e-01+0.22721292j  0.00000000e+00+0.j\n",
      "   4.85348980e-17-0.45442584j  0.00000000e+00+0.j\n",
      "   0.00000000e+00+0.j          0.00000000e+00+0.j        ]\n",
      " [ 0.00000000e+00+0.j          0.00000000e+00+0.j\n",
      "   0.00000000e+00+0.j          7.31688869e-01+0.22721292j\n",
      "   0.00000000e+00+0.j          3.55771282e-18-0.45442584j\n",
      "   3.55771282e-18-0.45442584j  0.00000000e+00+0.j        ]\n",
      " [ 0.00000000e+00+0.j         -2.41978628e-17-0.45442584j\n",
      "  -1.07464590e-16-0.45442584j  0.00000000e+00+0.j\n",
      "   7.31688869e-01+0.22721292j  0.00000000e+00+0.j\n",
      "   0.00000000e+00+0.j          0.00000000e+00+0.j        ]\n",
      " [ 0.00000000e+00+0.j          0.00000000e+00+0.j\n",
      "   0.00000000e+00+0.j         -3.47318288e-17-0.45442584j\n",
      "   0.00000000e+00+0.j          7.31688869e-01+0.22721292j\n",
      "   4.85348980e-17-0.45442584j  0.00000000e+00+0.j        ]\n",
      " [ 0.00000000e+00+0.j          0.00000000e+00+0.j\n",
      "   0.00000000e+00+0.j         -2.41978628e-17-0.45442584j\n",
      "   0.00000000e+00+0.j         -1.07464590e-16-0.45442584j\n",
      "   7.31688869e-01+0.22721292j  0.00000000e+00+0.j        ]\n",
      " [ 0.00000000e+00+0.j          0.00000000e+00+0.j\n",
      "   0.00000000e+00+0.j          0.00000000e+00+0.j\n",
      "   0.00000000e+00+0.j          0.00000000e+00+0.j\n",
      "   0.00000000e+00+0.j          7.31688869e-01-0.68163876j]]\n"
     ]
    }
   ],
   "source": [
    "print(\"For t=1\")\n",
    "#For L=2\n",
    "print(\"L=2\")\n",
    "print(U(1,A_2))\n",
    "#For L=3\n",
    "print(\"\\nL=3\")\n",
    "print(U(1,A_3))"
   ]
  }
 ],
 "metadata": {
  "kernelspec": {
   "display_name": "Python 3",
   "language": "python",
   "name": "python3"
  },
  "language_info": {
   "codemirror_mode": {
    "name": "ipython",
    "version": 3
   },
   "file_extension": ".py",
   "mimetype": "text/x-python",
   "name": "python",
   "nbconvert_exporter": "python",
   "pygments_lexer": "ipython3",
   "version": "3.11.9"
  }
 },
 "nbformat": 4,
 "nbformat_minor": 2
}
